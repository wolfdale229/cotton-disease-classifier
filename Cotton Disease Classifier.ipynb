{
 "cells": [
  {
   "cell_type": "markdown",
   "id": "tight-modern",
   "metadata": {},
   "source": [
    "##### The aim of this model is to create a classifier that would be able to identify healthy cotton plants from the non-healthy cotton plants by examming both the leaves and other part of the plant.\n",
    "\n",
    "##### Data Set : The data used is gotten from the kaggle data science website, the data set name is called Cotton Disease."
   ]
  },
  {
   "cell_type": "code",
   "execution_count": 1,
   "id": "indoor-stockholm",
   "metadata": {},
   "outputs": [],
   "source": [
    "%reload_ext autoreload\n",
    "%autoreload 2\n",
    "%matplotlib inline"
   ]
  },
  {
   "cell_type": "code",
   "execution_count": 2,
   "id": "korean-strap",
   "metadata": {},
   "outputs": [],
   "source": [
    "import os\n",
    "import numpy as np\n",
    "import matplotlib.pyplot as plt\n",
    "\n",
    "from tensorflow.keras.activations import softmax, relu\n",
    "from tensorflow.keras.preprocessing import image\n",
    "from tensorflow.keras.optimizers import RMSprop\n",
    "from tensorflow.keras.preprocessing.image import ImageDataGenerator\n",
    "from tensorflow.keras import models, layers, callbacks\n",
    "from tensorflow.keras.regularizers import l2\n",
    "from tensorflow.keras.losses import categorical_crossentropy"
   ]
  },
  {
   "cell_type": "code",
   "execution_count": 3,
   "id": "determined-ghost",
   "metadata": {},
   "outputs": [],
   "source": [
    "abspath = os.path.abspath('./')\n",
    "\n",
    "train_dir = os.path.join(abspath, 'train/')\n",
    "test_dir = os.path.join(abspath, 'test/')\n",
    "valid_dir = os.path.join(abspath, 'val/')"
   ]
  },
  {
   "cell_type": "code",
   "execution_count": 4,
   "id": "careful-parking",
   "metadata": {},
   "outputs": [
    {
     "name": "stdout",
     "output_type": "stream",
     "text": [
      "Found 1951 images belonging to 4 classes.\n",
      "Found 106 images belonging to 4 classes.\n",
      "Found 253 images belonging to 4 classes.\n"
     ]
    }
   ],
   "source": [
    "train_gen = ImageDataGenerator(rescale=1./225)\n",
    "test_gen = ImageDataGenerator(rescale=1./225)\n",
    "\n",
    "\n",
    "train_data = train_gen.flow_from_directory(train_dir, target_size=(224, 224), batch_size=32)\n",
    "test_data = test_gen.flow_from_directory(test_dir, target_size=(224, 224), batch_size=20, shuffle=False)\n",
    "valid_data = test_gen.flow_from_directory(valid_dir, target_size=(224, 224), batch_size=20, shuffle=False)"
   ]
  },
  {
   "cell_type": "code",
   "execution_count": 5,
   "id": "acute-wrong",
   "metadata": {},
   "outputs": [
    {
     "name": "stdout",
     "output_type": "stream",
     "text": [
      "Model: \"sequential\"\n",
      "_________________________________________________________________\n",
      "Layer (type)                 Output Shape              Param #   \n",
      "=================================================================\n",
      "conv2d (Conv2D)              (None, 224, 224, 32)      896       \n",
      "_________________________________________________________________\n",
      "conv2d_1 (Conv2D)            (None, 222, 222, 32)      9248      \n",
      "_________________________________________________________________\n",
      "max_pooling2d (MaxPooling2D) (None, 111, 111, 32)      0         \n",
      "_________________________________________________________________\n",
      "conv2d_2 (Conv2D)            (None, 109, 109, 64)      18496     \n",
      "_________________________________________________________________\n",
      "conv2d_3 (Conv2D)            (None, 107, 107, 64)      36928     \n",
      "_________________________________________________________________\n",
      "max_pooling2d_1 (MaxPooling2 (None, 53, 53, 64)        0         \n",
      "_________________________________________________________________\n",
      "conv2d_4 (Conv2D)            (None, 51, 51, 128)       73856     \n",
      "_________________________________________________________________\n",
      "conv2d_5 (Conv2D)            (None, 49, 49, 128)       147584    \n",
      "_________________________________________________________________\n",
      "max_pooling2d_2 (MaxPooling2 (None, 24, 24, 128)       0         \n",
      "_________________________________________________________________\n",
      "flatten (Flatten)            (None, 73728)             0         \n",
      "_________________________________________________________________\n",
      "dense (Dense)                (None, 512)               37749248  \n",
      "_________________________________________________________________\n",
      "dense_1 (Dense)              (None, 1024)              525312    \n",
      "_________________________________________________________________\n",
      "dense_2 (Dense)              (None, 4)                 4100      \n",
      "=================================================================\n",
      "Total params: 38,565,668\n",
      "Trainable params: 38,565,668\n",
      "Non-trainable params: 0\n",
      "_________________________________________________________________\n"
     ]
    }
   ],
   "source": [
    "model = models.Sequential()\n",
    "\n",
    "input_shape = (224, 224, 3)\n",
    "\n",
    "model.add(layers.Conv2D(filters=32, kernel_size=(3,3), kernel_regularizer=l2(1e-4),\n",
    "                        activation=relu, padding='same',input_shape=input_shape))\n",
    "model.add(layers.Conv2D(filters=32, kernel_size=(3,3), kernel_regularizer=l2(1e-4), activation=relu))\n",
    "model.add(layers.MaxPooling2D())\n",
    "\n",
    "# layer 2\n",
    "model.add(layers.Conv2D(filters=64, kernel_size=(3,3), kernel_regularizer=l2(1e-4), activation=relu))\n",
    "model.add(layers.Conv2D(filters=64, kernel_size=(3,3), kernel_regularizer=l2(1e-4), activation=relu))\n",
    "model.add(layers.MaxPooling2D())\n",
    "\n",
    "# layer 3\n",
    "model.add(layers.Conv2D(filters=128, kernel_size=(3,3), kernel_regularizer=l2(1e-4), activation=relu))\n",
    "model.add(layers.Conv2D(filters=128, kernel_size=(3,3), kernel_regularizer=l2(1e-4), activation=relu))\n",
    "model.add(layers.MaxPooling2D())\n",
    "\n",
    "# layer 4\n",
    "model.add(layers.Flatten())\n",
    "model.add(layers.Dense(512, activation=relu))\n",
    "model.add(layers.Dense(512*2, activation=relu))\n",
    "model.add(layers.Dense(4, activation=softmax))\n",
    "\n",
    "\n",
    "model.summary()"
   ]
  },
  {
   "cell_type": "code",
   "execution_count": 8,
   "id": "accompanied-session",
   "metadata": {},
   "outputs": [
    {
     "name": "stdout",
     "output_type": "stream",
     "text": [
      "Epoch 1/20\n",
      "10/10 [==============================] - 108s 11s/step - loss: 1.5126 - accuracy: 0.4788 - val_loss: 1.3402 - val_accuracy: 0.3900\n",
      "\n",
      "Epoch 00001: val_loss improved from inf to 1.34018, saving model to cotton1.weights.model.hdf5\n",
      "Epoch 2/20\n",
      "10/10 [==============================] - 106s 11s/step - loss: 1.2680 - accuracy: 0.4700 - val_loss: 1.2358 - val_accuracy: 0.3900\n",
      "\n",
      "Epoch 00002: val_loss improved from 1.34018 to 1.23578, saving model to cotton1.weights.model.hdf5\n",
      "Epoch 3/20\n",
      "10/10 [==============================] - 106s 11s/step - loss: 1.2148 - accuracy: 0.4415 - val_loss: 1.1209 - val_accuracy: 0.4300\n",
      "\n",
      "Epoch 00003: val_loss improved from 1.23578 to 1.12088, saving model to cotton1.weights.model.hdf5\n",
      "Epoch 4/20\n",
      "10/10 [==============================] - 106s 11s/step - loss: 1.1292 - accuracy: 0.4966 - val_loss: 1.0905 - val_accuracy: 0.5650\n",
      "\n",
      "Epoch 00004: val_loss improved from 1.12088 to 1.09048, saving model to cotton1.weights.model.hdf5\n",
      "Epoch 5/20\n",
      "10/10 [==============================] - 107s 11s/step - loss: 1.0568 - accuracy: 0.5617 - val_loss: 1.1297 - val_accuracy: 0.5250\n",
      "\n",
      "Epoch 00005: val_loss did not improve from 1.09048\n",
      "Epoch 6/20\n",
      "10/10 [==============================] - 106s 11s/step - loss: 1.0383 - accuracy: 0.5604 - val_loss: 0.9303 - val_accuracy: 0.6550\n",
      "\n",
      "Epoch 00006: val_loss improved from 1.09048 to 0.93027, saving model to cotton1.weights.model.hdf5\n",
      "Epoch 7/20\n",
      "10/10 [==============================] - 106s 11s/step - loss: 0.9096 - accuracy: 0.6465 - val_loss: 1.2180 - val_accuracy: 0.4600\n",
      "\n",
      "Epoch 00007: val_loss did not improve from 0.93027\n",
      "Epoch 8/20\n",
      "10/10 [==============================] - 106s 11s/step - loss: 0.9620 - accuracy: 0.6294 - val_loss: 0.9661 - val_accuracy: 0.5650\n",
      "\n",
      "Epoch 00008: val_loss did not improve from 0.93027\n",
      "Epoch 9/20\n",
      "10/10 [==============================] - 106s 11s/step - loss: 0.9533 - accuracy: 0.5929 - val_loss: 0.8976 - val_accuracy: 0.6200\n",
      "\n",
      "Epoch 00009: val_loss improved from 0.93027 to 0.89758, saving model to cotton1.weights.model.hdf5\n",
      "Epoch 10/20\n",
      "10/10 [==============================] - 107s 11s/step - loss: 0.7137 - accuracy: 0.7392 - val_loss: 0.8015 - val_accuracy: 0.6800\n",
      "\n",
      "Epoch 00010: val_loss improved from 0.89758 to 0.80151, saving model to cotton1.weights.model.hdf5\n",
      "Epoch 11/20\n",
      "10/10 [==============================] - 106s 11s/step - loss: 0.9515 - accuracy: 0.5952 - val_loss: 0.6944 - val_accuracy: 0.6950\n",
      "\n",
      "Epoch 00011: val_loss improved from 0.80151 to 0.69441, saving model to cotton1.weights.model.hdf5\n",
      "Epoch 12/20\n",
      "10/10 [==============================] - 107s 11s/step - loss: 0.8174 - accuracy: 0.6931 - val_loss: 0.6300 - val_accuracy: 0.7750\n",
      "\n",
      "Epoch 00012: val_loss improved from 0.69441 to 0.63004, saving model to cotton1.weights.model.hdf5\n",
      "Epoch 13/20\n",
      "10/10 [==============================] - 106s 11s/step - loss: 0.6157 - accuracy: 0.7462 - val_loss: 0.7226 - val_accuracy: 0.7050\n",
      "\n",
      "Epoch 00013: val_loss did not improve from 0.63004\n",
      "Epoch 14/20\n",
      "10/10 [==============================] - 106s 11s/step - loss: 0.7261 - accuracy: 0.7299 - val_loss: 0.7570 - val_accuracy: 0.6850\n",
      "\n",
      "Epoch 00014: val_loss did not improve from 0.63004\n",
      "Epoch 15/20\n",
      "10/10 [==============================] - 106s 11s/step - loss: 0.6822 - accuracy: 0.7623 - val_loss: 0.6647 - val_accuracy: 0.7350\n",
      "\n",
      "Epoch 00015: val_loss did not improve from 0.63004\n",
      "Epoch 16/20\n",
      "10/10 [==============================] - 106s 11s/step - loss: 0.7231 - accuracy: 0.7670 - val_loss: 0.5866 - val_accuracy: 0.7850\n",
      "\n",
      "Epoch 00016: val_loss improved from 0.63004 to 0.58660, saving model to cotton1.weights.model.hdf5\n",
      "Epoch 17/20\n",
      "10/10 [==============================] - 107s 11s/step - loss: 0.6133 - accuracy: 0.7920 - val_loss: 1.1443 - val_accuracy: 0.5700\n",
      "\n",
      "Epoch 00017: val_loss did not improve from 0.58660\n",
      "Epoch 18/20\n",
      "10/10 [==============================] - 107s 11s/step - loss: 0.7372 - accuracy: 0.7548 - val_loss: 0.5761 - val_accuracy: 0.7850\n",
      "\n",
      "Epoch 00018: val_loss improved from 0.58660 to 0.57614, saving model to cotton1.weights.model.hdf5\n",
      "Epoch 19/20\n",
      "10/10 [==============================] - 107s 11s/step - loss: 0.5553 - accuracy: 0.7855 - val_loss: 0.8803 - val_accuracy: 0.6550\n",
      "\n",
      "Epoch 00019: val_loss did not improve from 0.57614\n",
      "Epoch 20/20\n",
      "10/10 [==============================] - 106s 11s/step - loss: 0.5924 - accuracy: 0.7751 - val_loss: 0.7793 - val_accuracy: 0.6900\n",
      "\n",
      "Epoch 00020: val_loss did not improve from 0.57614\n"
     ]
    }
   ],
   "source": [
    "checkpoint = callbacks.ModelCheckpoint('cotton1.weights.model.hdf5', save_best_only=True, verbose=1)\n",
    "\n",
    "model.compile(optimizer=RMSprop(learning_rate=1e-4), loss=categorical_crossentropy, metrics=['accuracy'])\n",
    "\n",
    "history = model.fit(train_data, epochs=20, steps_per_epoch=10,\n",
    "                    callbacks=checkpoint, validation_data=valid_data,validation_steps=10)"
   ]
  },
  {
   "cell_type": "code",
   "execution_count": 9,
   "id": "right-muslim",
   "metadata": {},
   "outputs": [
    {
     "data": {
      "image/png": "[encoded data removed]",
      "text/plain": [
       "<Figure size 432x288 with 1 Axes>"
      ]
     },
     "metadata": {},
     "output_type": "display_data"
    },
    {
     "data": {
      "image/png": "[encoded data removed]",
      "text/plain": [
       "<Figure size 432x288 with 1 Axes>"
      ]
     },
     "metadata": {},
     "output_type": "display_data"
    }
   ],
   "source": [
    "plt.style.use('seaborn-darkgrid')\n",
    "epochs = len(history.history['loss'])\n",
    "\n",
    "loss = history.history['loss']\n",
    "acc = history.history['accuracy']\n",
    "\n",
    "val_loss = history.history['val_loss']\n",
    "val_acc = history.history['val_accuracy']\n",
    "\n",
    "plt.plot(loss, label='loss')\n",
    "plt.plot(val_loss, 'g', label='val loss')\n",
    "plt.legend()\n",
    "\n",
    "plt.figure()\n",
    "plt.plot(acc, 'r', label='accuracy')\n",
    "plt.plot(val_acc, 'g', label='val accuracy')\n",
    "plt.legend()\n",
    "plt.show()"
   ]
  },
  {
   "cell_type": "code",
   "execution_count": 13,
   "id": "average-attention",
   "metadata": {},
   "outputs": [
    {
     "name": "stdout",
     "output_type": "stream",
     "text": [
      "6/6 [==============================] - 10s 2s/step - loss: 0.8212 - accuracy: 0.6792\n",
      "loss:0.8211892247200012\n",
      "Accuracy:0.6792452931404114\n"
     ]
    }
   ],
   "source": [
    "score = model.evaluate(test_data, callbacks=checkpoint)\n",
    "print(f'loss:{score[0]}')\n",
    "print(f'Accuracy:{score[1]}')"
   ]
  },
  {
   "cell_type": "code",
   "execution_count": null,
   "id": "lined-quick",
   "metadata": {},
   "outputs": [],
   "source": []
  },
  {
   "cell_type": "code",
   "execution_count": null,
   "id": "colored-premium",
   "metadata": {},
   "outputs": [],
   "source": []
  },
  {
   "cell_type": "code",
   "execution_count": null,
   "id": "engaged-glenn",
   "metadata": {},
   "outputs": [],
   "source": []
  },
  {
   "cell_type": "code",
   "execution_count": null,
   "id": "prime-person",
   "metadata": {},
   "outputs": [],
   "source": []
  },
  {
   "cell_type": "code",
   "execution_count": null,
   "id": "after-jacksonville",
   "metadata": {},
   "outputs": [],
   "source": []
  },
  {
   "cell_type": "code",
   "execution_count": null,
   "id": "accessory-zealand",
   "metadata": {},
   "outputs": [],
   "source": []
  },
  {
   "cell_type": "code",
   "execution_count": null,
   "id": "domestic-image",
   "metadata": {},
   "outputs": [],
   "source": []
  },
  {
   "cell_type": "code",
   "execution_count": null,
   "id": "partial-tiger",
   "metadata": {},
   "outputs": [],
   "source": []
  },
  {
   "cell_type": "code",
   "execution_count": null,
   "id": "latest-class",
   "metadata": {},
   "outputs": [],
   "source": []
  },
  {
   "cell_type": "code",
   "execution_count": null,
   "id": "proprietary-therapy",
   "metadata": {},
   "outputs": [],
   "source": []
  },
  {
   "cell_type": "code",
   "execution_count": null,
   "id": "chinese-planet",
   "metadata": {},
   "outputs": [],
   "source": []
  },
  {
   "cell_type": "code",
   "execution_count": null,
   "id": "mechanical-lithuania",
   "metadata": {},
   "outputs": [],
   "source": []
  },
  {
   "cell_type": "code",
   "execution_count": null,
   "id": "annoying-destruction",
   "metadata": {},
   "outputs": [],
   "source": []
  },
  {
   "cell_type": "code",
   "execution_count": null,
   "id": "humanitarian-phenomenon",
   "metadata": {},
   "outputs": [],
   "source": []
  },
  {
   "cell_type": "code",
   "execution_count": null,
   "id": "eastern-british",
   "metadata": {},
   "outputs": [],
   "source": []
  },
  {
   "cell_type": "code",
   "execution_count": null,
   "id": "gorgeous-capture",
   "metadata": {},
   "outputs": [],
   "source": []
  },
  {
   "cell_type": "code",
   "execution_count": null,
   "id": "english-brunswick",
   "metadata": {},
   "outputs": [],
   "source": []
  },
  {
   "cell_type": "code",
   "execution_count": null,
   "id": "committed-houston",
   "metadata": {},
   "outputs": [],
   "source": []
  },
  {
   "cell_type": "code",
   "execution_count": null,
   "id": "surprised-consistency",
   "metadata": {},
   "outputs": [],
   "source": []
  },
  {
   "cell_type": "code",
   "execution_count": null,
   "id": "neither-lawyer",
   "metadata": {},
   "outputs": [],
   "source": []
  },
  {
   "cell_type": "code",
   "execution_count": null,
   "id": "jewish-realtor",
   "metadata": {},
   "outputs": [],
   "source": []
  },
  {
   "cell_type": "code",
   "execution_count": null,
   "id": "closed-background",
   "metadata": {},
   "outputs": [],
   "source": []
  },
  {
   "cell_type": "code",
   "execution_count": null,
   "id": "emerging-latino",
   "metadata": {},
   "outputs": [],
   "source": []
  }
 ],
 "metadata": {
  "kernelspec": {
   "display_name": "Python 3",
   "language": "python",
   "name": "python3"
  },
  "language_info": {
   "codemirror_mode": {
    "name": "ipython",
    "version": 3
   },
   "file_extension": ".py",
   "mimetype": "text/x-python",
   "name": "python",
   "nbconvert_exporter": "python",
   "pygments_lexer": "ipython3",
   "version": "3.8.3"
  }
 },
 "nbformat": 4,
 "nbformat_minor": 5
}
